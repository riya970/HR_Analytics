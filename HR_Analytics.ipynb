{
 "cells": [
  {
   "cell_type": "code",
   "execution_count": null,
   "id": "d15f556a",
   "metadata": {},
   "outputs": [],
   "source": [
    "import pandas as pd\n",
    "import numpy as np\n",
    "import seaborn as sns\n",
    "import matplotlib as mt\n",
    "import seaborn as sns\n",
    "import matplotlib.pyplot as plt\n",
    "import warnings\n",
    "warnings.filterwarnings('ignore')"
   ]
  },
  {
   "cell_type": "markdown",
   "id": "518c9ab4",
   "metadata": {},
   "source": [
    "### Load the data"
   ]
  },
  {
   "cell_type": "code",
   "execution_count": null,
   "id": "3043fed4",
   "metadata": {},
   "outputs": [],
   "source": [
    "df=pd.read_excel('INX_Future_Inc_Employee_Performance_CDS_Project2_Data_V1.8.xls')"
   ]
  },
  {
   "cell_type": "markdown",
   "id": "cdb276e8",
   "metadata": {},
   "source": [
    "### First 5 rows of the data set"
   ]
  },
  {
   "cell_type": "code",
   "execution_count": null,
   "id": "d93313d7",
   "metadata": {},
   "outputs": [],
   "source": [
    "df.head()\n"
   ]
  },
  {
   "cell_type": "markdown",
   "id": "f63426fa",
   "metadata": {},
   "source": [
    "### No of rows"
   ]
  },
  {
   "cell_type": "code",
   "execution_count": null,
   "id": "e884771a",
   "metadata": {},
   "outputs": [],
   "source": [
    "print('No. of rows',df.shape[0])"
   ]
  },
  {
   "cell_type": "markdown",
   "id": "633a503a",
   "metadata": {},
   "source": [
    "### No of Columns"
   ]
  },
  {
   "cell_type": "code",
   "execution_count": null,
   "id": "c7c1deab",
   "metadata": {},
   "outputs": [],
   "source": [
    "print('No. of columns',df.shape[1])"
   ]
  },
  {
   "cell_type": "markdown",
   "id": "c0b83228",
   "metadata": {},
   "source": [
    "### Basic Statistics of the Data"
   ]
  },
  {
   "cell_type": "code",
   "execution_count": null,
   "id": "51b517e5",
   "metadata": {},
   "outputs": [],
   "source": [
    "df.describe()"
   ]
  },
  {
   "cell_type": "code",
   "execution_count": null,
   "id": "c7f9251c",
   "metadata": {},
   "outputs": [],
   "source": [
    "df.describe(include='object')"
   ]
  },
  {
   "cell_type": "code",
   "execution_count": null,
   "id": "abe319a2",
   "metadata": {},
   "outputs": [],
   "source": [
    "df.info()"
   ]
  },
  {
   "cell_type": "code",
   "execution_count": null,
   "id": "e2e8a218",
   "metadata": {},
   "outputs": [],
   "source": [
    "for i in df.columns:\n",
    "    print(i,\":\",df[i].unique())\n",
    "    print('\\n')"
   ]
  },
  {
   "cell_type": "code",
   "execution_count": null,
   "id": "371fb0df",
   "metadata": {},
   "outputs": [],
   "source": [
    "\n",
    "s='! @ # $ % ^ & * ( ) - = _ + [ ] \\ { } | ; : , . / < > ? '.split()\n",
    "for i in s:\n",
    "    df.replace(to_replace=i,value=np.nan,inplace=True)\n",
    "df\n"
   ]
  },
  {
   "cell_type": "code",
   "execution_count": null,
   "id": "ba974d0d",
   "metadata": {},
   "outputs": [],
   "source": [
    "for i in df.columns:\n",
    "    print(i,\":\",df[i].unique())\n",
    "    print('\\n')"
   ]
  },
  {
   "cell_type": "code",
   "execution_count": null,
   "id": "0a48661d",
   "metadata": {},
   "outputs": [],
   "source": [
    "df['Age'].fillna(df['Age'].median(),inplace=True)\n",
    "df['MaritalStatus'].fillna(df['MaritalStatus'].mode()[0],inplace=True)\n",
    "df['YearsSinceLastPromotion'].fillna(df['YearsSinceLastPromotion'].median(),inplace=True)"
   ]
  },
  {
   "cell_type": "code",
   "execution_count": null,
   "id": "8f6c9dcc",
   "metadata": {},
   "outputs": [],
   "source": [
    "df['MaritalStatus'].mode()"
   ]
  },
  {
   "cell_type": "code",
   "execution_count": null,
   "id": "c5b6213a",
   "metadata": {},
   "outputs": [],
   "source": [
    "df['MaritalStatus'] = df['MaritalStatus'].astype(object)"
   ]
  },
  {
   "cell_type": "code",
   "execution_count": null,
   "id": "541b7bb4",
   "metadata": {},
   "outputs": [],
   "source": [
    "df['MaritalStatus'].replace(to_replace='nan',value=0,inplace=True)\n",
    "df['MaritalStatus'].unique()"
   ]
  },
  {
   "cell_type": "code",
   "execution_count": null,
   "id": "ab27a049",
   "metadata": {},
   "outputs": [],
   "source": [
    "for i in df.columns:\n",
    "    print(i,\":\",df[i].unique())\n",
    "    print('\\n')"
   ]
  },
  {
   "cell_type": "code",
   "execution_count": null,
   "id": "eb1e3b38",
   "metadata": {},
   "outputs": [],
   "source": [
    "df.isnull().sum()"
   ]
  },
  {
   "cell_type": "code",
   "execution_count": null,
   "id": "2eb96c27",
   "metadata": {},
   "outputs": [],
   "source": [
    "df.info()"
   ]
  },
  {
   "cell_type": "markdown",
   "id": "7636abf9",
   "metadata": {},
   "source": [
    "## Univariate Analysis"
   ]
  },
  {
   "cell_type": "code",
   "execution_count": null,
   "id": "9d4d748c",
   "metadata": {},
   "outputs": [],
   "source": [
    "# For Univariate Analysis, we will analyse all the numeric variables individually "
   ]
  },
  {
   "cell_type": "code",
   "execution_count": null,
   "id": "48786efb",
   "metadata": {},
   "outputs": [],
   "source": [
    "cat_cols = df.select_dtypes(exclude = np.number)\n",
    "num_cols = df.select_dtypes(include = np.number)"
   ]
  },
  {
   "cell_type": "code",
   "execution_count": null,
   "id": "f90d35f0",
   "metadata": {},
   "outputs": [],
   "source": [
    "for i in num_cols.columns:\n",
    "    sns.boxplot(num_cols[i])\n",
    "    plt.show()"
   ]
  },
  {
   "cell_type": "markdown",
   "id": "48b6224d",
   "metadata": {},
   "source": [
    "## Multivariate Analysis"
   ]
  },
  {
   "cell_type": "code",
   "execution_count": null,
   "id": "4a51590f",
   "metadata": {},
   "outputs": [],
   "source": [
    "for i in num_cols.columns:\n",
    "    sns.scatterplot(num_cols[i],num_cols['PerformanceRating'])\n",
    "    plt.show()"
   ]
  },
  {
   "cell_type": "code",
   "execution_count": null,
   "id": "ddcba406",
   "metadata": {},
   "outputs": [],
   "source": [
    "cat_cols.columns"
   ]
  },
  {
   "cell_type": "code",
   "execution_count": null,
   "id": "ebbf3b56",
   "metadata": {},
   "outputs": [],
   "source": [
    "cat_col = [ 'Gender', 'EducationBackground', 'MaritalStatus',\n",
    "       'EmpDepartment', 'EmpJobRole', 'BusinessTravelFrequency', 'OverTime',\n",
    "       'Attrition']\n",
    "for i in cat_col:\n",
    "    sns.countplot(cat_cols[i])\n",
    "    plt.xticks(rotation=90)\n",
    "    plt.show()"
   ]
  },
  {
   "cell_type": "code",
   "execution_count": null,
   "id": "e4f1b30b",
   "metadata": {},
   "outputs": [],
   "source": [
    "sns.lineplot(df['Age'],df['EmpEducationLevel'])"
   ]
  },
  {
   "cell_type": "code",
   "execution_count": null,
   "id": "7f4c3021",
   "metadata": {},
   "outputs": [],
   "source": [
    "sns.lineplot(df['Age'],df['TotalWorkExperienceInYears'])"
   ]
  },
  {
   "cell_type": "raw",
   "id": "6593e7bc",
   "metadata": {},
   "source": [
    "As the age increases the Experience work increases"
   ]
  },
  {
   "cell_type": "code",
   "execution_count": null,
   "id": "5f583564",
   "metadata": {},
   "outputs": [],
   "source": [
    "sns.lineplot(df['Age'],df['EmpJobSatisfaction'])"
   ]
  },
  {
   "cell_type": "raw",
   "id": "c2af21a5",
   "metadata": {},
   "source": [
    "As the age of the employee starts moving above 40's then the stabilty in the curve of job satisfaction starts fluctuating which might be the reason of his increased expectations from the companies and this fluctiuation keeps on increasing with age.\n",
    "Also the fluctuation is high when the experience of the employee is less that is he/she is in the begining stage of his/her career."
   ]
  },
  {
   "cell_type": "code",
   "execution_count": null,
   "id": "a6c1b517",
   "metadata": {
    "scrolled": true
   },
   "outputs": [],
   "source": [
    "sns.lineplot(df['NumCompaniesWorked'],df['EmpJobSatisfaction'])"
   ]
  },
  {
   "cell_type": "raw",
   "id": "71f9d19e",
   "metadata": {},
   "source": [
    "The employees who have worked in more companies are slightly less satisfied with their jobs as compared to the employees who have not switched the companies that much."
   ]
  },
  {
   "cell_type": "code",
   "execution_count": null,
   "id": "cb07f8d8",
   "metadata": {},
   "outputs": [],
   "source": [
    "sns.lineplot(df['EmpJobSatisfaction'],df['YearsSinceLastPromotion'],hue=df['PerformanceRating'],ci=None)"
   ]
  },
  {
   "cell_type": "raw",
   "id": "d235b1e4",
   "metadata": {},
   "source": [
    "No matter how much is the employee satisfied with his/her job, if the years years since his last promotion are high, his rating is surely to be poor"
   ]
  },
  {
   "cell_type": "code",
   "execution_count": null,
   "id": "601444ea",
   "metadata": {},
   "outputs": [],
   "source": [
    "sns.lineplot(df['EducationBackground'],df['EmpJobSatisfaction'],hue=df['Gender'],ci=None)\n",
    "plt.xticks(rotation=90)\n",
    "plt.show()"
   ]
  },
  {
   "cell_type": "raw",
   "id": "9f7359de",
   "metadata": {},
   "source": [
    "The male gender is always more satisfied with his job in all the educational backgrounds except the medical background where the females are more satisfiedand also people having life sciences and medical background are most satisfied and where as people having HR as educational beckgorund are the one having least satisfaction in their jobs"
   ]
  },
  {
   "cell_type": "code",
   "execution_count": null,
   "id": "cf708089",
   "metadata": {},
   "outputs": [],
   "source": [
    "sns.lineplot(df['EmpEducationLevel'],df['EmpJobLevel'])"
   ]
  },
  {
   "cell_type": "raw",
   "id": "8ca99b2d",
   "metadata": {},
   "source": [
    "More Educated Employees are having high posts in their jobs"
   ]
  },
  {
   "cell_type": "code",
   "execution_count": null,
   "id": "0040443e",
   "metadata": {
    "scrolled": true
   },
   "outputs": [],
   "source": [
    "sns.barplot(df['OverTime'],df['PerformanceRating'])"
   ]
  },
  {
   "cell_type": "code",
   "execution_count": null,
   "id": "80b57cfb",
   "metadata": {},
   "outputs": [],
   "source": [
    "sns.barplot(df['EmpDepartment'],df['PerformanceRating'])\n",
    "plt.xticks(rotation=90)\n",
    "plt.show()"
   ]
  },
  {
   "cell_type": "raw",
   "id": "57ef8039",
   "metadata": {},
   "source": [
    "Developers and Data Science professionals have high ratings compared to other departments"
   ]
  },
  {
   "cell_type": "code",
   "execution_count": null,
   "id": "ae8e62d9",
   "metadata": {},
   "outputs": [],
   "source": [
    "sns.barplot(df['EmpDepartment'],df['EmpLastSalaryHikePercent'])\n",
    "plt.xticks(rotation=90)\n",
    "plt.show()"
   ]
  },
  {
   "cell_type": "raw",
   "id": "bfb021b6",
   "metadata": {},
   "source": [
    "The Data Science professionals are getting more hike as compared to others"
   ]
  },
  {
   "cell_type": "code",
   "execution_count": null,
   "id": "c8d9e405",
   "metadata": {},
   "outputs": [],
   "source": [
    "sns.lineplot(df['ExperienceYearsAtThisCompany'],df['EmpEnvironmentSatisfaction'])\n",
    "plt.xticks(rotation=90)\n",
    "plt.show()"
   ]
  },
  {
   "cell_type": "raw",
   "id": "63108e19",
   "metadata": {},
   "source": [
    "The older and the Younger employees have more satisfaction with the company's environment but the employees of the middle age group have fluctuations."
   ]
  },
  {
   "cell_type": "code",
   "execution_count": null,
   "id": "ee8dcd29",
   "metadata": {},
   "outputs": [],
   "source": [
    "sns.lineplot(y=df['TotalWorkExperienceInYears'],x=df['EmpJobLevel'])"
   ]
  },
  {
   "cell_type": "markdown",
   "id": "becd15f5",
   "metadata": {},
   "source": [
    "Increasing work experience is leading to increased job level"
   ]
  },
  {
   "cell_type": "code",
   "execution_count": null,
   "id": "c390c03d",
   "metadata": {},
   "outputs": [],
   "source": [
    "#checking normality of the data using histogram:\n",
    "num_col=['Age', 'DistanceFromHome', 'EmpEducationLevel',\n",
    "       'EmpEnvironmentSatisfaction', 'EmpHourlyRate', 'EmpJobInvolvement',\n",
    "       'EmpJobLevel', 'EmpJobSatisfaction', 'NumCompaniesWorked',\n",
    "       'EmpLastSalaryHikePercent', 'EmpRelationshipSatisfaction',\n",
    "       'TotalWorkExperienceInYears', 'TrainingTimesLastYear',\n",
    "       'EmpWorkLifeBalance', 'ExperienceYearsAtThisCompany',\n",
    "       'ExperienceYearsInCurrentRole', 'YearsSinceLastPromotion',\n",
    "       'YearsWithCurrManager']\n",
    "for i in num_cols:\n",
    "    sns.histplot(num_cols[i],kde=True)\n",
    "    print('The Skewness of ',i,'column is: ',num_cols[i].skew())\n",
    "    plt.show()\n",
    "    "
   ]
  }
 ],
 "metadata": {
  "kernelspec": {
   "display_name": "Python 3 (ipykernel)",
   "language": "python",
   "name": "python3"
  },
  "language_info": {
   "codemirror_mode": {
    "name": "ipython",
    "version": 3
   },
   "file_extension": ".py",
   "mimetype": "text/x-python",
   "name": "python",
   "nbconvert_exporter": "python",
   "pygments_lexer": "ipython3",
   "version": "3.9.13"
  }
 },
 "nbformat": 4,
 "nbformat_minor": 5
}
